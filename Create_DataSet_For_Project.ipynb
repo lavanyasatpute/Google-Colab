{
  "cells": [
    {
      "cell_type": "markdown",
      "metadata": {
        "id": "view-in-github",
        "colab_type": "text"
      },
      "source": [
        "<a href=\"https://colab.research.google.com/github/lavanyasatpute/Google-Colab/blob/Lavanya/Create_DataSet_For_Project.ipynb\" target=\"_parent\"><img src=\"https://colab.research.google.com/assets/colab-badge.svg\" alt=\"Open In Colab\"/></a>"
      ]
    },
    {
      "cell_type": "code",
      "execution_count": null,
      "metadata": {
        "colab": {
          "base_uri": "https://localhost:8080/"
        },
        "id": "dc4BkbTKGPgH",
        "outputId": "fb918c20-b00c-47d2-e645-ab18b49b8df0"
      },
      "outputs": [
        {
          "output_type": "stream",
          "name": "stdout",
          "text": [
            "Requirement already satisfied: requests in /usr/local/lib/python3.10/dist-packages (2.31.0)\n",
            "Requirement already satisfied: charset-normalizer<4,>=2 in /usr/local/lib/python3.10/dist-packages (from requests) (3.2.0)\n",
            "Requirement already satisfied: idna<4,>=2.5 in /usr/local/lib/python3.10/dist-packages (from requests) (3.4)\n",
            "Requirement already satisfied: urllib3<3,>=1.21.1 in /usr/local/lib/python3.10/dist-packages (from requests) (2.0.4)\n",
            "Requirement already satisfied: certifi>=2017.4.17 in /usr/local/lib/python3.10/dist-packages (from requests) (2023.7.22)\n"
          ]
        }
      ],
      "source": [
        "!pip install requests\n"
      ]
    },
    {
      "cell_type": "code",
      "execution_count": null,
      "metadata": {
        "colab": {
          "base_uri": "https://localhost:8080/"
        },
        "id": "5bD484zTGVdr",
        "outputId": "4710df8e-d9d2-47ac-d59d-d845c44171ed"
      },
      "outputs": [
        {
          "output_type": "stream",
          "name": "stdout",
          "text": [
            "Requirement already satisfied: html5lib in /usr/local/lib/python3.10/dist-packages (1.1)\n",
            "Requirement already satisfied: six>=1.9 in /usr/local/lib/python3.10/dist-packages (from html5lib) (1.16.0)\n",
            "Requirement already satisfied: webencodings in /usr/local/lib/python3.10/dist-packages (from html5lib) (0.5.1)\n"
          ]
        }
      ],
      "source": [
        "pip install html5lib"
      ]
    },
    {
      "cell_type": "code",
      "execution_count": null,
      "metadata": {
        "colab": {
          "base_uri": "https://localhost:8080/"
        },
        "id": "EnWjEsOxGx68",
        "outputId": "92bf91f6-7a81-472a-a7c9-fe4ce38ee969"
      },
      "outputs": [
        {
          "output_type": "stream",
          "name": "stdout",
          "text": [
            "Collecting bs4\n",
            "  Downloading bs4-0.0.1.tar.gz (1.1 kB)\n",
            "  Preparing metadata (setup.py) ... \u001b[?25l\u001b[?25hdone\n",
            "Requirement already satisfied: beautifulsoup4 in /usr/local/lib/python3.10/dist-packages (from bs4) (4.11.2)\n",
            "Requirement already satisfied: soupsieve>1.2 in /usr/local/lib/python3.10/dist-packages (from beautifulsoup4->bs4) (2.5)\n",
            "Building wheels for collected packages: bs4\n",
            "  Building wheel for bs4 (setup.py) ... \u001b[?25l\u001b[?25hdone\n",
            "  Created wheel for bs4: filename=bs4-0.0.1-py3-none-any.whl size=1256 sha256=8ffd232bdaa4f9d5f7f240c6a993123e9d005b71434dac757f4fa6c6f743c579\n",
            "  Stored in directory: /root/.cache/pip/wheels/25/42/45/b773edc52acb16cd2db4cf1a0b47117e2f69bb4eb300ed0e70\n",
            "Successfully built bs4\n",
            "Installing collected packages: bs4\n",
            "Successfully installed bs4-0.0.1\n"
          ]
        }
      ],
      "source": [
        "pip install bs4"
      ]
    },
    {
      "cell_type": "code",
      "execution_count": null,
      "metadata": {
        "id": "0q8ZEvoXG3hM"
      },
      "outputs": [],
      "source": [
        "import requests as rq\n",
        "from bs4 import BeautifulSoup"
      ]
    },
    {
      "cell_type": "code",
      "execution_count": null,
      "metadata": {
        "id": "g3fuvws-2p7B"
      },
      "outputs": [],
      "source": [
        "url = \"https://fe2022.mahacet.org/StaticPages/frmInstituteSummary?InstituteCode=1002\""
      ]
    },
    {
      "cell_type": "code",
      "execution_count": null,
      "metadata": {
        "colab": {
          "base_uri": "https://localhost:8080/",
          "height": 175
        },
        "id": "XPP8unSK31VX",
        "outputId": "19e3ff90-9045-4528-861c-7888c34690ce"
      },
      "outputs": [
        {
          "output_type": "error",
          "ename": "NameError",
          "evalue": "ignored",
          "traceback": [
            "\u001b[0;31m---------------------------------------------------------------------------\u001b[0m",
            "\u001b[0;31mNameError\u001b[0m                                 Traceback (most recent call last)",
            "\u001b[0;32m<ipython-input-9-438d3b060236>\u001b[0m in \u001b[0;36m<cell line: 1>\u001b[0;34m()\u001b[0m\n\u001b[0;32m----> 1\u001b[0;31m \u001b[0mresponse\u001b[0m \u001b[0;34m=\u001b[0m \u001b[0mrequests\u001b[0m\u001b[0;34m.\u001b[0m\u001b[0mget\u001b[0m\u001b[0;34m(\u001b[0m\u001b[0murl\u001b[0m\u001b[0;34m,\u001b[0m\u001b[0mverify\u001b[0m\u001b[0;34m=\u001b[0m\u001b[0;32mFalse\u001b[0m\u001b[0;34m)\u001b[0m\u001b[0;34m\u001b[0m\u001b[0;34m\u001b[0m\u001b[0m\n\u001b[0m",
            "\u001b[0;31mNameError\u001b[0m: name 'requests' is not defined"
          ]
        }
      ],
      "source": [
        "response = requests.get(url,verify=False)"
      ]
    },
    {
      "cell_type": "code",
      "execution_count": null,
      "metadata": {
        "id": "q8ZuW62M4B57"
      },
      "outputs": [],
      "source": [
        "response.content\n"
      ]
    },
    {
      "cell_type": "code",
      "execution_count": null,
      "metadata": {
        "id": "8r0QyE0O5ZO_"
      },
      "outputs": [],
      "source": [
        "soup = BeautifulSoup(response.content , 'html.parser')"
      ]
    },
    {
      "cell_type": "code",
      "execution_count": null,
      "metadata": {
        "id": "p-17k9Hj6ye8"
      },
      "outputs": [],
      "source": [
        "soup.prettify"
      ]
    },
    {
      "cell_type": "code",
      "execution_count": null,
      "metadata": {
        "id": "ggYGI3vG60Fo"
      },
      "outputs": [],
      "source": [
        "anchor = soup.find_all('tr')"
      ]
    },
    {
      "cell_type": "code",
      "execution_count": null,
      "metadata": {
        "id": "Wb3ouphs7btD"
      },
      "outputs": [],
      "source": [
        "table = soup.find('table',class_='AppFormTable')  # Find the first table on the page\n",
        "\n",
        "# Initialize empty lists to store rows and data\n",
        "table_data = []\n",
        "for row in table.find_all('tr'):\n",
        "    row_data = []\n",
        "    for cell in row.find_all(['td', 'th']):\n",
        "        row_data.append(cell.get_text(strip=True))  # Get the text content of the cell\n",
        "    table_data.append(row_data)\n",
        "\n",
        "# Print the table data\n",
        "for row in table_data:\n",
        "    print(row)\n"
      ]
    },
    {
      "cell_type": "code",
      "execution_count": null,
      "metadata": {
        "id": "l1IvEOIt_EDv"
      },
      "outputs": [],
      "source": [
        "table1 = soup.find('table',class_='DataGrid')  # Find the first table on the page\n",
        "\n",
        "# Initialize empty lists to store rows and data\n",
        "table_data = []\n",
        "for row in table1.find_all('tr'):\n",
        "    row_data = []\n",
        "    for cell in row.find_all(['td', 'th']):\n",
        "        row_data.append(cell.get_text(strip=True))  # Get the text content of the cell\n",
        "    table_data.append(row_data)\n",
        "\n",
        "# Print the table data\n",
        "for row in table_data:\n",
        "    print(row)"
      ]
    },
    {
      "cell_type": "code",
      "execution_count": null,
      "metadata": {
        "id": "H_wA6cTZKK6J"
      },
      "outputs": [],
      "source": [
        "x = table_data[0]\n",
        "x"
      ]
    },
    {
      "cell_type": "code",
      "execution_count": null,
      "metadata": {
        "id": "h2VA6hoyRXU3"
      },
      "outputs": [],
      "source": [
        "del table_data[0]"
      ]
    },
    {
      "cell_type": "code",
      "execution_count": null,
      "metadata": {
        "id": "hEQEv7m-SOJF"
      },
      "outputs": [],
      "source": [
        "table_data"
      ]
    },
    {
      "cell_type": "code",
      "execution_count": null,
      "metadata": {
        "id": "8kIe9BFVSQiY"
      },
      "outputs": [],
      "source": [
        "df = pd.DataFrame(table_data, columns=x)"
      ]
    },
    {
      "cell_type": "code",
      "source": [
        "import pandas as pd"
      ],
      "metadata": {
        "id": "n0bTf9nbHTZ0"
      },
      "execution_count": null,
      "outputs": []
    },
    {
      "cell_type": "code",
      "execution_count": null,
      "metadata": {
        "id": "hcVyDpw8SghQ"
      },
      "outputs": [],
      "source": [
        "pd.concat([df, df], axis=0)"
      ]
    },
    {
      "cell_type": "code",
      "execution_count": null,
      "metadata": {
        "id": "EsaiodezShYr"
      },
      "outputs": [],
      "source": [
        "pip install PyPDF2"
      ]
    },
    {
      "cell_type": "code",
      "execution_count": null,
      "metadata": {
        "id": "Nx2refp7VmXv"
      },
      "outputs": [],
      "source": [
        "import PyPDF2\n",
        "\n",
        "# Open the PDF file in read-binary mode\n",
        "with open('/content/College_CutOFF_Data.pdf', 'rb') as pdf_file:\n",
        "    pdf_reader = PyPDF2.PdfReader(pdf_file)\n"
      ]
    },
    {
      "cell_type": "code",
      "execution_count": null,
      "metadata": {
        "id": "gpzzSPY-YH_T"
      },
      "outputs": [],
      "source": [
        "pdf_reader"
      ]
    },
    {
      "cell_type": "code",
      "execution_count": null,
      "metadata": {
        "id": "nqxXEj4gWXI7"
      },
      "outputs": [],
      "source": [
        "# Initialize an empty string to store the extracted text\n",
        "text = ''\n",
        "\n",
        "# Loop through all the pages in the PDF\n",
        "for page_num in range(1485):\n",
        "    page = pdf_reader.pages(page_num)\n",
        "    text += page.extractText()\n",
        "\n",
        "# Print or process the extracted text\n",
        "print(text)\n"
      ]
    },
    {
      "cell_type": "code",
      "execution_count": null,
      "metadata": {
        "id": "SXw1ykrQXxmS"
      },
      "outputs": [],
      "source": []
    }
  ],
  "metadata": {
    "colab": {
      "provenance": [],
      "authorship_tag": "ABX9TyMw0IVQQzA4kAhXUAPuzwAc",
      "include_colab_link": true
    },
    "kernelspec": {
      "display_name": "Python 3",
      "name": "python3"
    },
    "language_info": {
      "name": "python"
    }
  },
  "nbformat": 4,
  "nbformat_minor": 0
}