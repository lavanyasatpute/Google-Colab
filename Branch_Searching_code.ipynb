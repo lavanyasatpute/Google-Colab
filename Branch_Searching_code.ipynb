{
  "nbformat": 4,
  "nbformat_minor": 0,
  "metadata": {
    "colab": {
      "provenance": [],
      "authorship_tag": "ABX9TyO4xf3Ipww+ML1f2NjzZcz6",
      "include_colab_link": true
    },
    "kernelspec": {
      "name": "python3",
      "display_name": "Python 3"
    },
    "language_info": {
      "name": "python"
    }
  },
  "cells": [
    {
      "cell_type": "markdown",
      "metadata": {
        "id": "view-in-github",
        "colab_type": "text"
      },
      "source": [
        "<a href=\"https://colab.research.google.com/github/lavanyasatpute/Google-Colab/blob/Lavanya/Branch_Searching_code.ipynb\" target=\"_parent\"><img src=\"https://colab.research.google.com/assets/colab-badge.svg\" alt=\"Open In Colab\"/></a>"
      ]
    },
    {
      "cell_type": "code",
      "source": [
        "import requests\n",
        "from bs4 import BeautifulSoup\n",
        "import scrapy\n",
        "url = 'https://collegevista.pythonanywhere.com/kit'\n",
        "response = requests.get(url)\n"
      ],
      "metadata": {
        "id": "hg2D-s-piDe5"
      },
      "execution_count": null,
      "outputs": []
    },
    {
      "cell_type": "code",
      "source": [
        "soup = BeautifulSoup(response.text, 'html.parser')\n"
      ],
      "metadata": {
        "id": "LOZtLSuZqtwW"
      },
      "execution_count": null,
      "outputs": []
    },
    {
      "cell_type": "code",
      "source": [
        "links = soup.find_all('a')\n",
        "for link in links:\n",
        "    print(link.get('href'))\n"
      ],
      "metadata": {
        "id": "n3Gfovqsq33M",
        "outputId": "35bd9312-a40d-485d-c5d9-ec957f64cd30",
        "colab": {
          "base_uri": "https://localhost:8080/"
        }
      },
      "execution_count": null,
      "outputs": [
        {
          "output_type": "stream",
          "name": "stdout",
          "text": [
            "info\n",
            "#About\n",
            "#Infra\n",
            "#Academics\n",
            "#Placements\n",
            "#How\n",
            "kitbranch\n",
            "javascript:void(0);\n",
            "https://www.kitcoek.in/\n"
          ]
        }
      ]
    },
    {
      "cell_type": "code",
      "source": [
        "import re\n",
        "\n",
        "elements = [\n",
        "    (\"Computer Science and Engineering\", \"CSE\"),\n",
        "    (\"Mechanical Engineering\", \"ME\"),\n",
        "    (\"Civil Engineering\", \"CE\"),\n",
        "    (\"Biotech Engineering\", \"BE\"),\n",
        "    (\"Electrical Engineering\", \"EE\"),\n",
        "    (\"Electronics and Telecommunication Engineering\", \"ECE\"),\n",
        "    (\"Computer Science and Engineering (Artificial Intelligence and Machine Learning)\", \"CSE (AI/ML)\"),\n",
        "    (\"Computer Science and Engineering (Data Science)\", \"CSE (Data Science)\"),\n",
        "    (\"Computer Science and Business System\", \"CSBS\")\n",
        "]\n",
        "user_query = input(\"Enter a word to search in the list: \")\n",
        "\n",
        "pattern = re.compile(user_query, re.IGNORECASE)\n",
        "\n",
        "matching_elements = []\n",
        "for element in elements:\n",
        "    if re.search(pattern, element):\n",
        "        matching_elements.append(element)\n",
        "\n",
        "if matching_elements:\n",
        "    print(\"Matching elements:\")\n",
        "    for match in matching_elements:\n",
        "        print(match)\n",
        "else:\n",
        "    print(\"No matching elements found.\")\n"
      ],
      "metadata": {
        "id": "OZ0iNhilq6Y-",
        "colab": {
          "base_uri": "https://localhost:8080/",
          "height": 383
        },
        "outputId": "60eb6c51-0636-4ebd-d83c-52b46b7b039d"
      },
      "execution_count": null,
      "outputs": [
        {
          "name": "stdout",
          "output_type": "stream",
          "text": [
            "Enter a word to search in the list: CSE\n"
          ]
        },
        {
          "output_type": "error",
          "ename": "TypeError",
          "evalue": "ignored",
          "traceback": [
            "\u001b[0;31m---------------------------------------------------------------------------\u001b[0m",
            "\u001b[0;31mTypeError\u001b[0m                                 Traceback (most recent call last)",
            "\u001b[0;32m<ipython-input-8-3e5bf3b08908>\u001b[0m in \u001b[0;36m<cell line: 19>\u001b[0;34m()\u001b[0m\n\u001b[1;32m     18\u001b[0m \u001b[0mmatching_elements\u001b[0m \u001b[0;34m=\u001b[0m \u001b[0;34m[\u001b[0m\u001b[0;34m]\u001b[0m\u001b[0;34m\u001b[0m\u001b[0;34m\u001b[0m\u001b[0m\n\u001b[1;32m     19\u001b[0m \u001b[0;32mfor\u001b[0m \u001b[0melement\u001b[0m \u001b[0;32min\u001b[0m \u001b[0melements\u001b[0m\u001b[0;34m:\u001b[0m\u001b[0;34m\u001b[0m\u001b[0;34m\u001b[0m\u001b[0m\n\u001b[0;32m---> 20\u001b[0;31m     \u001b[0;32mif\u001b[0m \u001b[0mre\u001b[0m\u001b[0;34m.\u001b[0m\u001b[0msearch\u001b[0m\u001b[0;34m(\u001b[0m\u001b[0mpattern\u001b[0m\u001b[0;34m,\u001b[0m \u001b[0melement\u001b[0m\u001b[0;34m)\u001b[0m\u001b[0;34m:\u001b[0m\u001b[0;34m\u001b[0m\u001b[0;34m\u001b[0m\u001b[0m\n\u001b[0m\u001b[1;32m     21\u001b[0m         \u001b[0mmatching_elements\u001b[0m\u001b[0;34m.\u001b[0m\u001b[0mappend\u001b[0m\u001b[0;34m(\u001b[0m\u001b[0melement\u001b[0m\u001b[0;34m)\u001b[0m\u001b[0;34m\u001b[0m\u001b[0;34m\u001b[0m\u001b[0m\n\u001b[1;32m     22\u001b[0m \u001b[0;34m\u001b[0m\u001b[0m\n",
            "\u001b[0;32m/usr/lib/python3.10/re.py\u001b[0m in \u001b[0;36msearch\u001b[0;34m(pattern, string, flags)\u001b[0m\n\u001b[1;32m    198\u001b[0m     \"\"\"Scan through string looking for a match to the pattern, returning\n\u001b[1;32m    199\u001b[0m     a Match object, or None if no match was found.\"\"\"\n\u001b[0;32m--> 200\u001b[0;31m     \u001b[0;32mreturn\u001b[0m \u001b[0m_compile\u001b[0m\u001b[0;34m(\u001b[0m\u001b[0mpattern\u001b[0m\u001b[0;34m,\u001b[0m \u001b[0mflags\u001b[0m\u001b[0;34m)\u001b[0m\u001b[0;34m.\u001b[0m\u001b[0msearch\u001b[0m\u001b[0;34m(\u001b[0m\u001b[0mstring\u001b[0m\u001b[0;34m)\u001b[0m\u001b[0;34m\u001b[0m\u001b[0;34m\u001b[0m\u001b[0m\n\u001b[0m\u001b[1;32m    201\u001b[0m \u001b[0;34m\u001b[0m\u001b[0m\n\u001b[1;32m    202\u001b[0m \u001b[0;32mdef\u001b[0m \u001b[0msub\u001b[0m\u001b[0;34m(\u001b[0m\u001b[0mpattern\u001b[0m\u001b[0;34m,\u001b[0m \u001b[0mrepl\u001b[0m\u001b[0;34m,\u001b[0m \u001b[0mstring\u001b[0m\u001b[0;34m,\u001b[0m \u001b[0mcount\u001b[0m\u001b[0;34m=\u001b[0m\u001b[0;36m0\u001b[0m\u001b[0;34m,\u001b[0m \u001b[0mflags\u001b[0m\u001b[0;34m=\u001b[0m\u001b[0;36m0\u001b[0m\u001b[0;34m)\u001b[0m\u001b[0;34m:\u001b[0m\u001b[0;34m\u001b[0m\u001b[0;34m\u001b[0m\u001b[0m\n",
            "\u001b[0;31mTypeError\u001b[0m: expected string or bytes-like object"
          ]
        }
      ]
    },
    {
      "cell_type": "code",
      "source": [
        "for discipline, short_form in elements:\n",
        "    print(f\"{discipline}: {short_form}\")"
      ],
      "metadata": {
        "colab": {
          "base_uri": "https://localhost:8080/"
        },
        "id": "vvpdc-X0fjZh",
        "outputId": "84a8355a-943b-4dd0-badf-54705456750d"
      },
      "execution_count": null,
      "outputs": [
        {
          "output_type": "stream",
          "name": "stdout",
          "text": [
            "Computer Science and Engineering: CSE\n",
            "Mechanical Engineering: ME\n",
            "Civil Engineering: CE\n",
            "Biotech Engineering: BE\n",
            "Electrical Engineering: EE\n",
            "Electronics and Telecommunication Engineering: ECE\n",
            "Computer Science and Engineering (Artificial Intelligence and Machine Learning): CSE (AI/ML)\n",
            "Computer Science and Engineering (Data Science): CSE (Data Science)\n",
            "Computer Science and Business System: CSBS\n"
          ]
        }
      ]
    },
    {
      "cell_type": "code",
      "source": [
        "import re\n",
        "\n",
        "disciplines = [\n",
        "    (\"Computer Science and Engineering\", \"CSE\"),\n",
        "    (\"Mechanical Engineering\", \"ME\"),\n",
        "    (\"Civil Engineering\", \"CE\"),\n",
        "    (\"Biotech Engineering\", \"BE\"),\n",
        "    (\"Electrical Engineering\", \"EE\"),\n",
        "    (\"Electronics and Telecommunication Engineering\", \"ECE\"),\n",
        "    (\"Computer Science and Engineering (Artificial Intelligence and Machine Learning)\", \"CSE (AI/ML)\"),\n",
        "    (\"Computer Science and Engineering (Data Science)\", \"CSE (Data Science)\"),\n",
        "    (\"Computer Science and Business System\", \"CSBS\")\n",
        "]\n",
        "\n",
        "user_query = input(\"Enter a search query: \")\n",
        "\n",
        "pattern = re.compile(user_query, re.IGNORECASE)\n",
        "\n",
        "matching_disciplines = []\n",
        "\n",
        "for discipline, short_form in disciplines:\n",
        "    if re.search(pattern, discipline) or re.search(pattern, short_form):\n",
        "        matching_disciplines.append((discipline, short_form))\n",
        "\n",
        "if matching_disciplines:\n",
        "\n",
        "    print(\"Matching disciplines:\")\n",
        "    for discipline, short_form in matching_disciplines:\n",
        "        print(f\"{discipline}\")\n",
        "else:\n",
        "    print(\"No matching disciplines found.\")\n"
      ],
      "metadata": {
        "colab": {
          "base_uri": "https://localhost:8080/"
        },
        "id": "WewiLKIzidoq",
        "outputId": "995b5e49-abad-47ee-95d3-43718d37658e"
      },
      "execution_count": null,
      "outputs": [
        {
          "output_type": "stream",
          "name": "stdout",
          "text": [
            "Enter a search query: mech\n",
            "Matching disciplines:\n",
            "Mechanical Engineering\n"
          ]
        }
      ]
    },
    {
      "cell_type": "code",
      "source": [
        "List = [{'Colleges': \"Kolhapur Institute of Technology's College of Engineering(Autonomous), Kolhapur\", 'Branches': 'Electrical Engineering', 'Percentile': 63.54}, {'Colleges': \"Kolhapur Institute of Technology's College of Engineering(Autonomous), Kolhapur\", 'Branches': 'Mechanical Engineering', 'Percentile': 28.46},\n",
        "        {'Colleges': \"Kolhapur Institute of Technology's College of Engineering(Autonomous), Kolhapur\", 'Branches': 'Computer Science and Engineering', 'Percentile': 1.61},{'Colleges': \"Kolhapur Institute of Technology's College of Engineering(Autonomous), Kolhapur\", 'Branches': \"Electroics and Telly Communication Engineering\", 'Percentile': 1.61},\n",
        "        {'Branches': \"Computer Science and Engineering(Artificial Intelligent and Engineering)\"},{'Branches': \"Computer Science and Engineering(Data Science)\"}]"
      ],
      "metadata": {
        "id": "MonZST87ZUmF"
      },
      "execution_count": null,
      "outputs": []
    },
    {
      "cell_type": "code",
      "source": [
        "Short_form = ['EE', 'ME','CSE','ENTC','AIML','DS']"
      ],
      "metadata": {
        "id": "6aZGwdSrPGFF"
      },
      "execution_count": null,
      "outputs": []
    },
    {
      "cell_type": "code",
      "source": [
        "for i in List:\n",
        "  i['Branches'] =[i['Branches']]"
      ],
      "metadata": {
        "id": "dckWoK5yh93S"
      },
      "execution_count": null,
      "outputs": []
    },
    {
      "cell_type": "code",
      "source": [
        "for j in range (len(List)):\n",
        "        List[j]['Branches'].append(Short_form[j])"
      ],
      "metadata": {
        "id": "_YASCEdB5bLF"
      },
      "execution_count": null,
      "outputs": []
    },
    {
      "cell_type": "code",
      "source": [
        "List"
      ],
      "metadata": {
        "colab": {
          "base_uri": "https://localhost:8080/"
        },
        "id": "ggNa7j6FPXAW",
        "outputId": "9206d17e-d8f3-42b2-9827-df6f8a3467f7"
      },
      "execution_count": null,
      "outputs": [
        {
          "output_type": "execute_result",
          "data": {
            "text/plain": [
              "[{'Colleges': \"Kolhapur Institute of Technology's College of Engineering(Autonomous), Kolhapur\",\n",
              "  'Branches': ['Electrical Engineering', 'EE'],\n",
              "  'Percentile': 63.54},\n",
              " {'Colleges': \"Kolhapur Institute of Technology's College of Engineering(Autonomous), Kolhapur\",\n",
              "  'Branches': ['Mechanical Engineering', 'ME'],\n",
              "  'Percentile': 28.46},\n",
              " {'Colleges': \"Kolhapur Institute of Technology's College of Engineering(Autonomous), Kolhapur\",\n",
              "  'Branches': ['Computer Science and Engineering', 'CSE'],\n",
              "  'Percentile': 1.61},\n",
              " {'Colleges': \"Kolhapur Institute of Technology's College of Engineering(Autonomous), Kolhapur\",\n",
              "  'Branches': ['Electroics and Telly Communication Engineering', 'ENTC'],\n",
              "  'Percentile': 1.61},\n",
              " {'Branches': ['Computer Science and Engineering(Artificial Intelligent and Engineering)',\n",
              "   'AIML']},\n",
              " {'Branches': ['Computer Science and Engineering(Data Science)', 'DS']}]"
            ]
          },
          "metadata": {},
          "execution_count": 5
        }
      ]
    },
    {
      "cell_type": "code",
      "source": [
        "import re\n",
        "user_query = input(\"Enter a search query: \")\n",
        "pattern = re.compile(user_query, re.IGNORECASE)\n",
        "\n",
        "matching_disciplines = []\n",
        "for i in List:\n",
        "  disciplines = i['Branches']\n",
        "#print(disciplines)\n",
        "#x = disciplines[0]\n",
        "\n",
        "#y = disciplines[1]\n",
        "z = []\n",
        "for j in List:\n",
        "  z.append(j['Branches'])\n",
        "print(z)\n",
        "for x, y in z:\n",
        "  if re.search(pattern, x) or re.search(pattern, y):\n",
        "    matching_disciplines.append((x, y))\n",
        "if matching_disciplines:\n",
        "\n",
        "  print(\"Matching disciplines:\")\n",
        "  for discipline, short_form in matching_disciplines:\n",
        "    x = [i for i in List if (i['Branches']==j)]\n",
        "    print(x)\n",
        "else:\n",
        "  print(\"Not Matching...\")"
      ],
      "metadata": {
        "colab": {
          "base_uri": "https://localhost:8080/"
        },
        "id": "Hy99YEpORIwn",
        "outputId": "84656175-91ab-4aa7-b68d-78f7a6fd658f"
      },
      "execution_count": null,
      "outputs": [
        {
          "output_type": "stream",
          "name": "stdout",
          "text": [
            "Enter a search query: cse\n",
            "[['Electrical Engineering', 'EE'], ['Mechanical Engineering', 'ME'], ['Computer Science and Engineering', 'CSE'], ['Electroics and Telly Communication Engineering', 'ENTC'], ['Computer Science and Engineering(Artificial Intelligent and Engineering)', 'AIML'], ['Computer Science and Engineering(Data Science)', 'DS']]\n",
            "Matching disciplines:\n",
            "[]\n"
          ]
        }
      ]
    },
    {
      "cell_type": "code",
      "source": [
        "import re\n",
        "\n",
        "def create_short_form(phrase, exclude_words=None):\n",
        "    words = re.findall(r'\\b\\w+\\b|[()]|\\w+[\\(\\)]*', phrase)\n",
        "\n",
        "    short_form = \"\"\n",
        "\n",
        "    if exclude_words:\n",
        "        exclude_set = set(exclude_words)\n",
        "    else:\n",
        "        exclude_set = set()\n",
        "\n",
        "    for item in words:\n",
        "        if item.startswith(\"(\") and item.endswith(\")\"):\n",
        "            short_form += item\n",
        "        elif item.lower() not in exclude_set:\n",
        "            for word in re.findall(r'\\b\\w+\\b', item):\n",
        "                short_form += word[0].upper()\n",
        "\n",
        "    return short_form\n",
        "\n",
        "\n",
        "exclude_words = [\"and\",\"or\",\" \"]\n",
        "short_form=[]\n",
        "for i in List:\n",
        "  short_form.append(create_short_form(i['Branches'], exclude_words))\n",
        "  #List['Branches'].append\n",
        "# Print the short form\n",
        "print(f\"Short form  : {short_form}\")\n"
      ],
      "metadata": {
        "id": "hiSNrXoHjUiK"
      },
      "execution_count": null,
      "outputs": []
    },
    {
      "cell_type": "code",
      "source": [
        "#from typing_extensions import Concatenate\n",
        "# l = [1,2,3,4,5]\n",
        "# k = [6,7,8,9,10]\n",
        "k = list(List['Branches'])\n",
        "z = []\n",
        "for i in range(len(List)):\n",
        "  a = []\n",
        "  a.append(List['Branches'][i])\n",
        "  a.append(short_form[i])\n",
        "  c = tuple(a)\n",
        "  z.append(c)\n",
        "print(z)"
      ],
      "metadata": {
        "id": "PopU5_KxW3cK"
      },
      "execution_count": null,
      "outputs": []
    },
    {
      "cell_type": "code",
      "source": [
        "import re\n",
        "\n",
        "def create_short_form(phrase, exclude_words=None):\n",
        "    words = re.findall(r'\\b\\w+\\b|[()]|\\w+[\\(\\)]*', phrase)\n",
        "    short_form = \"\"\n",
        "    if exclude_words:\n",
        "        exclude_set = set(exclude_words)\n",
        "    else:\n",
        "        exclude_set = set()\n",
        "    for item in words:\n",
        "        if item.startswith(\"(\") and item.endswith(\")\"):\n",
        "            short_form += item\n",
        "        elif item.lower() not in exclude_set:\n",
        "            for word in re.findall(r'\\b\\w+\\b', item):\n",
        "                short_form += word[0].upper()\n",
        "\n",
        "    return short_form\n",
        "disciplines = [\n",
        "    (\"Computer Science and Engineering\", \"CSE\"),\n",
        "    (\"Mechanical Engineering\", \"ME\"),\n",
        "    (\"Civil Engineering\", \"CE\"),\n",
        "    (\"Biotech Engineering\", \"BE\"),\n",
        "    (\"Electrical Engineering\", \"EE\"),\n",
        "    (\"Electronics and Telecommunication Engineering\", \"ECE\"),\n",
        "    (\"Computer Science and Engineering (Artificial Intelligence and Machine Learning)\", \"CSE (AI/ML)\"),\n",
        "    (\"Computer Science and Engineering (Data Science)\", \"CSE (Data Science)\"),\n",
        "    (\"Computer Science and Business System\", \"CSBS\")\n",
        "]\n",
        "user_query = input(\"Enter a search query: \")\n",
        "pattern = re.compile(user_query, re.IGNORECASE)\n",
        "matching_disciplines = []\n",
        "for discipline, short_form in disciplines:\n",
        "    if re.search(pattern, discipline) or re.search(pattern, short_form):\n",
        "        matching_disciplines.append((discipline, short_form))\n",
        "if matching_disciplines:\n",
        "    print(\"Matching disciplines:\")\n",
        "    for discipline, short_form in matching_disciplines:\n",
        "        print(f\"{discipline}\")\n",
        "input_phrase = input(\"Enter a phrase: \")\n",
        "exclude_words = [\"and\", \"or\", \" \"]\n",
        "\n",
        "short_form = create_short_form(input_phrase, exclude_words)\n",
        "\n",
        "\n"
      ],
      "metadata": {
        "id": "Lfd1KKBMkUv8"
      },
      "execution_count": null,
      "outputs": []
    },
    {
      "cell_type": "code",
      "source": [
        "import re\n",
        "\n",
        "# Sample list of dictionaries (you need to define your own 'List')\n",
        "List = [\n",
        "    {'Branches': 'Computer Science', 'Short_Form': 'CS'},\n",
        "    {'Branches': 'Electrical Engineering', 'Short_Form': 'EE'},\n",
        "    {'Branches': 'Mechanical Engineering', 'Short_Form': 'ME'},\n",
        "]\n",
        "\n",
        "user_query = input(\"Enter a search query: \")\n",
        "pattern = re.compile(user_query, re.IGNORECASE)\n",
        "\n",
        "matching_disciplines = []\n",
        "\n",
        "for item in List:\n",
        "    discipline = item['Branches']\n",
        "    if re.search(pattern, discipline):\n",
        "        matching_disciplines.append(item)\n",
        "\n",
        "if matching_disciplines:\n",
        "    print(\"Matching disciplines:\")\n",
        "    for discipline in matching_disciplines:\n",
        "        print(discipline)\n",
        "else:\n",
        "    print(\"Not Matching...\")\n"
      ],
      "metadata": {
        "id": "R00G8l7W38Ue",
        "colab": {
          "base_uri": "https://localhost:8080/"
        },
        "outputId": "5c2146db-b07e-4b01-87c7-7107da5b7235"
      },
      "execution_count": null,
      "outputs": [
        {
          "output_type": "stream",
          "name": "stdout",
          "text": [
            "Enter a search query: mech\n",
            "Matching disciplines:\n",
            "{'Branches': 'Mechanical Engineering', 'Short_Form': 'ME'}\n"
          ]
        }
      ]
    },
    {
      "cell_type": "code",
      "source": [
        "text_list =[\n",
        "    (\"Computer Science and Engineering\", \"CSE\"),\n",
        "    (\"Mechanical Engineering\", \"ME\"),\n",
        "    (\"Civil Engineering\", \"CE\"),\n",
        "    (\"Biotech Engineering\", \"BE\"),\n",
        "    (\"Electrical Engineering\", \"EE\"),\n",
        "    (\"Electronics and Telecommunication Engineering\", \"ECE\"),\n",
        "    (\"Computer Science and Engineering (Artificial Intelligence and Machine Learning)\", \"CSE (AIML)\"),\n",
        "    (\"Computer Science and Engineering (Data Science)\", \"CSE (Data Science)\"),\n",
        "    (\"Computer Science and Business System\", \"CSBS\")\n",
        "]\n",
        "search_letter = input(\"Enter your choise: \")\n",
        "\n",
        "# Tokenization and filtering\n",
        "matching_words = [word for words in text_list for word in words if search_letter.lower() in word.lower()]\n",
        "\n",
        "# Print the words containing the search letter\n",
        "print(matching_words)"
      ],
      "metadata": {
        "id": "DepF21z5e3Sn",
        "colab": {
          "base_uri": "https://localhost:8080/"
        },
        "outputId": "572beec6-532d-4838-ad69-74ec1dc1df2b"
      },
      "execution_count": null,
      "outputs": [
        {
          "output_type": "stream",
          "name": "stdout",
          "text": [
            "Enter your choise: SCience\n",
            "['Computer Science and Engineering', 'Computer Science and Engineering (Artificial Intelligence and Machine Learning)', 'Computer Science and Engineering (Data Science)', 'CSE (Data Science)', 'Computer Science and Business System']\n"
          ]
        }
      ]
    },
    {
      "cell_type": "code",
      "source": [
        "pip install fuzzywuzzy"
      ],
      "metadata": {
        "id": "Mbwmm0K_LcXI",
        "colab": {
          "base_uri": "https://localhost:8080/"
        },
        "outputId": "c834c335-4557-4144-843a-1dc04688fb14"
      },
      "execution_count": null,
      "outputs": [
        {
          "output_type": "stream",
          "name": "stdout",
          "text": [
            "Collecting fuzzywuzzy\n",
            "  Downloading fuzzywuzzy-0.18.0-py2.py3-none-any.whl (18 kB)\n",
            "Installing collected packages: fuzzywuzzy\n",
            "Successfully installed fuzzywuzzy-0.18.0\n"
          ]
        }
      ]
    },
    {
      "cell_type": "code",
      "source": [
        "from fuzzywuzzy import fuzz\n",
        "\n",
        "user_input = input(\"Enter the branch  \")  # Example user input\n",
        "threshold = 80  # Adjust the threshold as needed\n",
        "\n",
        "# List of branches\n",
        "branches = [\"Electrical Engineering\", \"Mechanical Engineering\", \"Computer Science and Engineering\",\"Computer Science\", \"Electronics and Telecommunication Engineering\"]\n",
        "\n",
        "# Find branches that match closely to the user input\n",
        "matches = [(branch, fuzz.partial_ratio(user_input.lower(), branch.lower())) for branch in branches]\n",
        "matches = [(branch, score) for branch, score in matches if score >= threshold]\n",
        "\n",
        "if matches:\n",
        "    # Sort matches by score and get the best matches\n",
        "    best_matches = [match[0] for match in sorted(matches, key=lambda x: x[1], reverse=True)]\n",
        "    print(\"Best matches:\", best_matches)\n",
        "else:\n",
        "    print(\"No matches found.\")\n"
      ],
      "metadata": {
        "colab": {
          "base_uri": "https://localhost:8080/"
        },
        "id": "AK1d9TjBhaNd",
        "outputId": "32bd3ead-981d-4e88-d68a-c8438afcf775"
      },
      "execution_count": null,
      "outputs": [
        {
          "output_type": "stream",
          "name": "stdout",
          "text": [
            "Enter the branch  com\n",
            "Best matches: ['Computer Science and Engineering', 'Computer Science', 'Electronics and Telecommunication Engineering']\n"
          ]
        }
      ]
    },
    {
      "cell_type": "code",
      "source": [],
      "metadata": {
        "id": "wWhYIMlshjpK"
      },
      "execution_count": null,
      "outputs": []
    }
  ]
}